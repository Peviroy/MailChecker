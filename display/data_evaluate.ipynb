{
 "cells": [
  {
   "cell_type": "markdown",
   "metadata": {},
   "source": [
    "## Dataset evaluator"
   ]
  },
  {
   "cell_type": "markdown",
   "metadata": {},
   "source": [
    "此处用于数据集的分析，用于指导后续的特征工程\n",
    "\n",
    "共分三个步骤：\n",
    "1. 数据提纯（Data purify）\n",
    "2. 类别分析 (Category analyse)\n",
    "3. 文本分析 (Text analyse)"
   ]
  },
  {
   "cell_type": "code",
   "execution_count": 51,
   "metadata": {},
   "outputs": [
    {
     "data": {
      "text/html": [
       "<div>\n",
       "<style scoped>\n",
       "    .dataframe tbody tr th:only-of-type {\n",
       "        vertical-align: middle;\n",
       "    }\n",
       "\n",
       "    .dataframe tbody tr th {\n",
       "        vertical-align: top;\n",
       "    }\n",
       "\n",
       "    .dataframe thead th {\n",
       "        text-align: right;\n",
       "    }\n",
       "</style>\n",
       "<table border=\"1\" class=\"dataframe\">\n",
       "  <thead>\n",
       "    <tr style=\"text-align: right;\">\n",
       "      <th></th>\n",
       "      <th>v1</th>\n",
       "      <th>v2</th>\n",
       "      <th>Unnamed: 2</th>\n",
       "      <th>Unnamed: 3</th>\n",
       "      <th>Unnamed: 4</th>\n",
       "    </tr>\n",
       "  </thead>\n",
       "  <tbody>\n",
       "    <tr>\n",
       "      <th>0</th>\n",
       "      <td>ham</td>\n",
       "      <td>Go until jurong point, crazy.. Available only ...</td>\n",
       "      <td>NaN</td>\n",
       "      <td>NaN</td>\n",
       "      <td>NaN</td>\n",
       "    </tr>\n",
       "    <tr>\n",
       "      <th>1</th>\n",
       "      <td>ham</td>\n",
       "      <td>Ok lar... Joking wif u oni...</td>\n",
       "      <td>NaN</td>\n",
       "      <td>NaN</td>\n",
       "      <td>NaN</td>\n",
       "    </tr>\n",
       "    <tr>\n",
       "      <th>2</th>\n",
       "      <td>spam</td>\n",
       "      <td>Free entry in 2 a wkly comp to win FA Cup fina...</td>\n",
       "      <td>NaN</td>\n",
       "      <td>NaN</td>\n",
       "      <td>NaN</td>\n",
       "    </tr>\n",
       "    <tr>\n",
       "      <th>3</th>\n",
       "      <td>ham</td>\n",
       "      <td>U dun say so early hor... U c already then say...</td>\n",
       "      <td>NaN</td>\n",
       "      <td>NaN</td>\n",
       "      <td>NaN</td>\n",
       "    </tr>\n",
       "    <tr>\n",
       "      <th>4</th>\n",
       "      <td>ham</td>\n",
       "      <td>Nah I don't think he goes to usf, he lives aro...</td>\n",
       "      <td>NaN</td>\n",
       "      <td>NaN</td>\n",
       "      <td>NaN</td>\n",
       "    </tr>\n",
       "  </tbody>\n",
       "</table>\n",
       "</div>"
      ],
      "text/plain": [
       "     v1                                                 v2 Unnamed: 2  \\\n",
       "0   ham  Go until jurong point, crazy.. Available only ...        NaN   \n",
       "1   ham                      Ok lar... Joking wif u oni...        NaN   \n",
       "2  spam  Free entry in 2 a wkly comp to win FA Cup fina...        NaN   \n",
       "3   ham  U dun say so early hor... U c already then say...        NaN   \n",
       "4   ham  Nah I don't think he goes to usf, he lives aro...        NaN   \n",
       "\n",
       "  Unnamed: 3 Unnamed: 4  \n",
       "0        NaN        NaN  \n",
       "1        NaN        NaN  \n",
       "2        NaN        NaN  \n",
       "3        NaN        NaN  \n",
       "4        NaN        NaN  "
      ]
     },
     "execution_count": 51,
     "metadata": {},
     "output_type": "execute_result"
    }
   ],
   "source": [
    "import pandas as pd\n",
    "data_df = pd.read_csv(\"../data/spam.csv\", encoding=\"latin-1\")\n",
    "data_df.head()"
   ]
  },
  {
   "cell_type": "markdown",
   "metadata": {},
   "source": [
    "**Here are some columns unnecessary, but before `removing it`, we'd better have a check!**"
   ]
  },
  {
   "cell_type": "code",
   "execution_count": 2,
   "metadata": {},
   "outputs": [
    {
     "data": {
      "text/html": [
       "<div>\n",
       "<style scoped>\n",
       "    .dataframe tbody tr th:only-of-type {\n",
       "        vertical-align: middle;\n",
       "    }\n",
       "\n",
       "    .dataframe tbody tr th {\n",
       "        vertical-align: top;\n",
       "    }\n",
       "\n",
       "    .dataframe thead th {\n",
       "        text-align: right;\n",
       "    }\n",
       "</style>\n",
       "<table border=\"1\" class=\"dataframe\">\n",
       "  <thead>\n",
       "    <tr style=\"text-align: right;\">\n",
       "      <th></th>\n",
       "      <th>v1</th>\n",
       "      <th>v2</th>\n",
       "      <th>Unnamed: 2</th>\n",
       "      <th>Unnamed: 3</th>\n",
       "      <th>Unnamed: 4</th>\n",
       "    </tr>\n",
       "  </thead>\n",
       "  <tbody>\n",
       "    <tr>\n",
       "      <th>count</th>\n",
       "      <td>5572</td>\n",
       "      <td>5572</td>\n",
       "      <td>50</td>\n",
       "      <td>12</td>\n",
       "      <td>6</td>\n",
       "    </tr>\n",
       "    <tr>\n",
       "      <th>unique</th>\n",
       "      <td>2</td>\n",
       "      <td>5169</td>\n",
       "      <td>43</td>\n",
       "      <td>10</td>\n",
       "      <td>5</td>\n",
       "    </tr>\n",
       "    <tr>\n",
       "      <th>top</th>\n",
       "      <td>ham</td>\n",
       "      <td>Sorry, I'll call later</td>\n",
       "      <td>bt not his girlfrnd... G o o d n i g h t . . .@\"</td>\n",
       "      <td>GE</td>\n",
       "      <td>GNT:-)\"</td>\n",
       "    </tr>\n",
       "    <tr>\n",
       "      <th>freq</th>\n",
       "      <td>4825</td>\n",
       "      <td>30</td>\n",
       "      <td>3</td>\n",
       "      <td>2</td>\n",
       "      <td>2</td>\n",
       "    </tr>\n",
       "  </tbody>\n",
       "</table>\n",
       "</div>"
      ],
      "text/plain": [
       "          v1                      v2  \\\n",
       "count   5572                    5572   \n",
       "unique     2                    5169   \n",
       "top      ham  Sorry, I'll call later   \n",
       "freq    4825                      30   \n",
       "\n",
       "                                               Unnamed: 2 Unnamed: 3  \\\n",
       "count                                                  50         12   \n",
       "unique                                                 43         10   \n",
       "top      bt not his girlfrnd... G o o d n i g h t . . .@\"         GE   \n",
       "freq                                                    3          2   \n",
       "\n",
       "       Unnamed: 4  \n",
       "count           6  \n",
       "unique          5  \n",
       "top       GNT:-)\"  \n",
       "freq            2  "
      ]
     },
     "execution_count": 2,
     "metadata": {},
     "output_type": "execute_result"
    }
   ],
   "source": [
    "data_df.describe()"
   ]
  },
  {
   "cell_type": "code",
   "execution_count": 3,
   "metadata": {},
   "outputs": [
    {
     "data": {
      "text/html": [
       "<div>\n",
       "<style scoped>\n",
       "    .dataframe tbody tr th:only-of-type {\n",
       "        vertical-align: middle;\n",
       "    }\n",
       "\n",
       "    .dataframe tbody tr th {\n",
       "        vertical-align: top;\n",
       "    }\n",
       "\n",
       "    .dataframe thead th {\n",
       "        text-align: right;\n",
       "    }\n",
       "</style>\n",
       "<table border=\"1\" class=\"dataframe\">\n",
       "  <thead>\n",
       "    <tr style=\"text-align: right;\">\n",
       "      <th></th>\n",
       "      <th>feature</th>\n",
       "      <th>missing_num</th>\n",
       "      <th>missing_percentage</th>\n",
       "    </tr>\n",
       "  </thead>\n",
       "  <tbody>\n",
       "    <tr>\n",
       "      <th>0</th>\n",
       "      <td>Unnamed: 4</td>\n",
       "      <td>5566</td>\n",
       "      <td>0.998923</td>\n",
       "    </tr>\n",
       "    <tr>\n",
       "      <th>1</th>\n",
       "      <td>Unnamed: 3</td>\n",
       "      <td>5560</td>\n",
       "      <td>0.997846</td>\n",
       "    </tr>\n",
       "    <tr>\n",
       "      <th>2</th>\n",
       "      <td>Unnamed: 2</td>\n",
       "      <td>5522</td>\n",
       "      <td>0.991027</td>\n",
       "    </tr>\n",
       "    <tr>\n",
       "      <th>3</th>\n",
       "      <td>v2</td>\n",
       "      <td>0</td>\n",
       "      <td>0.000000</td>\n",
       "    </tr>\n",
       "    <tr>\n",
       "      <th>4</th>\n",
       "      <td>v1</td>\n",
       "      <td>0</td>\n",
       "      <td>0.000000</td>\n",
       "    </tr>\n",
       "  </tbody>\n",
       "</table>\n",
       "</div>"
      ],
      "text/plain": [
       "      feature  missing_num  missing_percentage\n",
       "0  Unnamed: 4         5566            0.998923\n",
       "1  Unnamed: 3         5560            0.997846\n",
       "2  Unnamed: 2         5522            0.991027\n",
       "3          v2            0            0.000000\n",
       "4          v1            0            0.000000"
      ]
     },
     "execution_count": 3,
     "metadata": {},
     "output_type": "execute_result"
    }
   ],
   "source": [
    "missing_df = data_df.isnull().sum().sort_values(ascending=False).reset_index()\n",
    "missing_df.head()\n",
    "missing_df.columns = ['feature', 'missing_num']\n",
    "missing_df.insert(loc=2, column='missing_percentage', value=missing_df['missing_num']/data_df.shape[0])\n",
    "missing_df.head()"
   ]
  },
  {
   "cell_type": "markdown",
   "metadata": {},
   "source": [
    "**Since the last three columns-_\"Unamed234\"_ occupy only a little part-*50, 12 ,6*,**\n",
    "\n",
    "**deleting them is reasonable.**"
   ]
  },
  {
   "cell_type": "markdown",
   "metadata": {},
   "source": [
    "### Data purify"
   ]
  },
  {
   "cell_type": "code",
   "execution_count": 4,
   "metadata": {},
   "outputs": [
    {
     "data": {
      "text/html": [
       "<div>\n",
       "<style scoped>\n",
       "    .dataframe tbody tr th:only-of-type {\n",
       "        vertical-align: middle;\n",
       "    }\n",
       "\n",
       "    .dataframe tbody tr th {\n",
       "        vertical-align: top;\n",
       "    }\n",
       "\n",
       "    .dataframe thead th {\n",
       "        text-align: right;\n",
       "    }\n",
       "</style>\n",
       "<table border=\"1\" class=\"dataframe\">\n",
       "  <thead>\n",
       "    <tr style=\"text-align: right;\">\n",
       "      <th></th>\n",
       "      <th>v1</th>\n",
       "      <th>v2</th>\n",
       "    </tr>\n",
       "  </thead>\n",
       "  <tbody>\n",
       "    <tr>\n",
       "      <th>0</th>\n",
       "      <td>ham</td>\n",
       "      <td>Go until jurong point, crazy.. Available only ...</td>\n",
       "    </tr>\n",
       "    <tr>\n",
       "      <th>1</th>\n",
       "      <td>ham</td>\n",
       "      <td>Ok lar... Joking wif u oni...</td>\n",
       "    </tr>\n",
       "    <tr>\n",
       "      <th>2</th>\n",
       "      <td>spam</td>\n",
       "      <td>Free entry in 2 a wkly comp to win FA Cup fina...</td>\n",
       "    </tr>\n",
       "    <tr>\n",
       "      <th>3</th>\n",
       "      <td>ham</td>\n",
       "      <td>U dun say so early hor... U c already then say...</td>\n",
       "    </tr>\n",
       "    <tr>\n",
       "      <th>4</th>\n",
       "      <td>ham</td>\n",
       "      <td>Nah I don't think he goes to usf, he lives aro...</td>\n",
       "    </tr>\n",
       "    <tr>\n",
       "      <th>...</th>\n",
       "      <td>...</td>\n",
       "      <td>...</td>\n",
       "    </tr>\n",
       "    <tr>\n",
       "      <th>5567</th>\n",
       "      <td>spam</td>\n",
       "      <td>This is the 2nd time we have tried 2 contact u...</td>\n",
       "    </tr>\n",
       "    <tr>\n",
       "      <th>5568</th>\n",
       "      <td>ham</td>\n",
       "      <td>Will Ì_ b going to esplanade fr home?</td>\n",
       "    </tr>\n",
       "    <tr>\n",
       "      <th>5569</th>\n",
       "      <td>ham</td>\n",
       "      <td>Pity, * was in mood for that. So...any other s...</td>\n",
       "    </tr>\n",
       "    <tr>\n",
       "      <th>5570</th>\n",
       "      <td>ham</td>\n",
       "      <td>The guy did some bitching but I acted like i'd...</td>\n",
       "    </tr>\n",
       "    <tr>\n",
       "      <th>5571</th>\n",
       "      <td>ham</td>\n",
       "      <td>Rofl. Its true to its name</td>\n",
       "    </tr>\n",
       "  </tbody>\n",
       "</table>\n",
       "<p>5572 rows × 2 columns</p>\n",
       "</div>"
      ],
      "text/plain": [
       "        v1                                                 v2\n",
       "0      ham  Go until jurong point, crazy.. Available only ...\n",
       "1      ham                      Ok lar... Joking wif u oni...\n",
       "2     spam  Free entry in 2 a wkly comp to win FA Cup fina...\n",
       "3      ham  U dun say so early hor... U c already then say...\n",
       "4      ham  Nah I don't think he goes to usf, he lives aro...\n",
       "...    ...                                                ...\n",
       "5567  spam  This is the 2nd time we have tried 2 contact u...\n",
       "5568   ham              Will Ì_ b going to esplanade fr home?\n",
       "5569   ham  Pity, * was in mood for that. So...any other s...\n",
       "5570   ham  The guy did some bitching but I acted like i'd...\n",
       "5571   ham                         Rofl. Its true to its name\n",
       "\n",
       "[5572 rows x 2 columns]"
      ]
     },
     "metadata": {},
     "output_type": "display_data"
    }
   ],
   "source": [
    "data_df = data_df.drop(columns=data_df.columns[2:5])\n",
    "display(data_df)"
   ]
  },
  {
   "cell_type": "markdown",
   "metadata": {},
   "source": [
    "### Category analyse(类别分析)\n",
    "From a macro perspective，_v1(category)'s category distribution and v2(text)'s text length_ are both obviously important features.\n",
    "\n",
    "In this part, we'll dive into category analyse"
   ]
  },
  {
   "cell_type": "code",
   "execution_count": 5,
   "metadata": {},
   "outputs": [
    {
     "data": {
      "text/plain": [
       "ham     4825\n",
       "spam     747\n",
       "Name: v1, dtype: int64"
      ]
     },
     "execution_count": 5,
     "metadata": {},
     "output_type": "execute_result"
    }
   ],
   "source": [
    "categories = data_df.loc[:, 'v1']\n",
    "categories.value_counts()"
   ]
  },
  {
   "cell_type": "markdown",
   "metadata": {},
   "source": [
    "Ham's count is much more greater then spam's, draw a pie chart to visualize it!"
   ]
  },
  {
   "cell_type": "code",
   "execution_count": 6,
   "metadata": {},
   "outputs": [
    {
     "data": {
      "text/plain": [
       "<matplotlib.legend.Legend at 0x7f1abb76e210>"
      ]
     },
     "execution_count": 6,
     "metadata": {},
     "output_type": "execute_result"
    },
    {
     "data": {
      "image/png": "[encoded data removed]",
      "text/plain": [
       "<Figure size 720x720 with 1 Axes>"
      ]
     },
     "metadata": {},
     "output_type": "display_data"
    }
   ],
   "source": [
    "import matplotlib.pyplot as plt\n",
    "plt.subplots(figsize=(10,10))\n",
    "categories.value_counts().plot(kind='pie', explode=[0, 0.2], shadow=True,   autopct='%1.1f%%', textprops={'fontsize': 16, 'color': 'black'})\n",
    "plt.ylabel('')\n",
    "plt.legend(loc='upper right')"
   ]
  },
  {
   "cell_type": "markdown",
   "metadata": {},
   "source": [
    "And using dataframe.describe"
   ]
  },
  {
   "cell_type": "code",
   "execution_count": 7,
   "metadata": {},
   "outputs": [
    {
     "data": {
      "text/html": [
       "<div>\n",
       "<style scoped>\n",
       "    .dataframe tbody tr th:only-of-type {\n",
       "        vertical-align: middle;\n",
       "    }\n",
       "\n",
       "    .dataframe tbody tr th {\n",
       "        vertical-align: top;\n",
       "    }\n",
       "\n",
       "    .dataframe thead tr th {\n",
       "        text-align: left;\n",
       "    }\n",
       "\n",
       "    .dataframe thead tr:last-of-type th {\n",
       "        text-align: right;\n",
       "    }\n",
       "</style>\n",
       "<table border=\"1\" class=\"dataframe\">\n",
       "  <thead>\n",
       "    <tr>\n",
       "      <th></th>\n",
       "      <th colspan=\"4\" halign=\"left\">v2</th>\n",
       "    </tr>\n",
       "    <tr>\n",
       "      <th></th>\n",
       "      <th>count</th>\n",
       "      <th>unique</th>\n",
       "      <th>top</th>\n",
       "      <th>freq</th>\n",
       "    </tr>\n",
       "    <tr>\n",
       "      <th>v1</th>\n",
       "      <th></th>\n",
       "      <th></th>\n",
       "      <th></th>\n",
       "      <th></th>\n",
       "    </tr>\n",
       "  </thead>\n",
       "  <tbody>\n",
       "    <tr>\n",
       "      <th>ham</th>\n",
       "      <td>4825</td>\n",
       "      <td>4516</td>\n",
       "      <td>Sorry, I'll call later</td>\n",
       "      <td>30</td>\n",
       "    </tr>\n",
       "    <tr>\n",
       "      <th>spam</th>\n",
       "      <td>747</td>\n",
       "      <td>653</td>\n",
       "      <td>Please call our customer service representativ...</td>\n",
       "      <td>4</td>\n",
       "    </tr>\n",
       "  </tbody>\n",
       "</table>\n",
       "</div>"
      ],
      "text/plain": [
       "        v2                                                               \n",
       "     count unique                                                top freq\n",
       "v1                                                                       \n",
       "ham   4825   4516                             Sorry, I'll call later   30\n",
       "spam   747    653  Please call our customer service representativ...    4"
      ]
     },
     "execution_count": 7,
     "metadata": {},
     "output_type": "execute_result"
    }
   ],
   "source": [
    "data_df.groupby('v1').describe()"
   ]
  },
  {
   "cell_type": "markdown",
   "metadata": {},
   "source": [
    "#### Summary for category distribution\n",
    "\n",
    "From charts above, we can see:spam and ham 的分配比重是有显著difference，这提示我们应当注意样本unbalance的情况。失衡的样本容易引导模型走向歧路，毕竟86.6 vs 13.4之下，ham邮件出现的信息熵远低于spam邮件，一个简单的全ham预测器也能达到86.6的accuracy。\n",
    "\n",
    "一般而言，针对于样本不均衡的措施有两大方向: **基于样本**以及**基于训练方法**\n",
    "\n",
    "1. 在基于样本的措施中，**过采样少数类**以及**欠采样多数类**是常见的措施，但却有着过拟合、欠拟合的风险。此外还可通过1:1组合样本(均衡采样,每个Batch内保持类别样本均衡)来训练多个模型，又较为繁琐。\n",
    "\n",
    "2. 在基于训练方法的措施中，可以通过为样本增加惩罚项（不同类别样本设置不同的权重，通常与设置成与类别数目成反比，即样本数目愈多的类，设置越低的权重）或对样本进行特征选择，前者可以通过在损失函数上进行改进，典型的有adaboost，后者则要求\"较少样本\"足够多以覆盖足够的特征点才能供我们提取。\n",
    "\n",
    "但回头一想，倘若训练集的spam、ham比例符合于现实情况的真实分布呢？如此一来让模型去学习这样一种distribution不正是我们所需要的吗。况且86.6 vs 13.4,其实也并非**十分地**不均衡。\n",
    "\n",
    "所以可以考虑去进行一些均衡化的措施，但或许并不是十分必要。\n",
    "\n",
    "但86.6的准确率其实并不够看，我们需要提升准确率，而更重要的是去提升精确率，因为做到精准分投才是邮件自动分类所需要的。"
   ]
  },
  {
   "cell_type": "markdown",
   "metadata": {},
   "source": [
    "---\n",
    "### Text analyse\n",
    "\n",
    "**Text length** is an obvious feature"
   ]
  },
  {
   "cell_type": "code",
   "execution_count": 8,
   "metadata": {},
   "outputs": [],
   "source": [
    "texts = data_df.loc[:, 'v2']\n",
    "texts_length = texts.apply(lambda text: len(text))"
   ]
  },
  {
   "cell_type": "code",
   "execution_count": 9,
   "metadata": {},
   "outputs": [
    {
     "data": {
      "text/html": [
       "<div>\n",
       "<style scoped>\n",
       "    .dataframe tbody tr th:only-of-type {\n",
       "        vertical-align: middle;\n",
       "    }\n",
       "\n",
       "    .dataframe tbody tr th {\n",
       "        vertical-align: top;\n",
       "    }\n",
       "\n",
       "    .dataframe thead th {\n",
       "        text-align: right;\n",
       "    }\n",
       "</style>\n",
       "<table border=\"1\" class=\"dataframe\">\n",
       "  <thead>\n",
       "    <tr style=\"text-align: right;\">\n",
       "      <th></th>\n",
       "      <th>v1</th>\n",
       "      <th>v2</th>\n",
       "      <th>v3</th>\n",
       "    </tr>\n",
       "  </thead>\n",
       "  <tbody>\n",
       "    <tr>\n",
       "      <th>0</th>\n",
       "      <td>ham</td>\n",
       "      <td>Go until jurong point, crazy.. Available only ...</td>\n",
       "      <td>111</td>\n",
       "    </tr>\n",
       "    <tr>\n",
       "      <th>1</th>\n",
       "      <td>ham</td>\n",
       "      <td>Ok lar... Joking wif u oni...</td>\n",
       "      <td>29</td>\n",
       "    </tr>\n",
       "    <tr>\n",
       "      <th>2</th>\n",
       "      <td>spam</td>\n",
       "      <td>Free entry in 2 a wkly comp to win FA Cup fina...</td>\n",
       "      <td>155</td>\n",
       "    </tr>\n",
       "    <tr>\n",
       "      <th>3</th>\n",
       "      <td>ham</td>\n",
       "      <td>U dun say so early hor... U c already then say...</td>\n",
       "      <td>49</td>\n",
       "    </tr>\n",
       "    <tr>\n",
       "      <th>4</th>\n",
       "      <td>ham</td>\n",
       "      <td>Nah I don't think he goes to usf, he lives aro...</td>\n",
       "      <td>61</td>\n",
       "    </tr>\n",
       "  </tbody>\n",
       "</table>\n",
       "</div>"
      ],
      "text/plain": [
       "     v1                                                 v2   v3\n",
       "0   ham  Go until jurong point, crazy.. Available only ...  111\n",
       "1   ham                      Ok lar... Joking wif u oni...   29\n",
       "2  spam  Free entry in 2 a wkly comp to win FA Cup fina...  155\n",
       "3   ham  U dun say so early hor... U c already then say...   49\n",
       "4   ham  Nah I don't think he goes to usf, he lives aro...   61"
      ]
     },
     "execution_count": 9,
     "metadata": {},
     "output_type": "execute_result"
    }
   ],
   "source": [
    "data_df['v3'] = texts_length\n",
    "data_df.head()"
   ]
  },
  {
   "cell_type": "code",
   "execution_count": 10,
   "metadata": {},
   "outputs": [],
   "source": [
    "ham_texts_length = data_df.loc[data_df['v1'] == 'ham', 'v3']\n",
    "spam_texts_length = data_df.loc[data_df['v1'] == 'spam', 'v3']"
   ]
  },
  {
   "cell_type": "markdown",
   "metadata": {},
   "source": [
    "Draw a plot via seaborn to vialize it;"
   ]
  },
  {
   "cell_type": "code",
   "execution_count": 11,
   "metadata": {},
   "outputs": [
    {
     "data": {
      "text/plain": [
       "<matplotlib.legend.Legend at 0x7f1abafc88d0>"
      ]
     },
     "execution_count": 11,
     "metadata": {},
     "output_type": "execute_result"
    },
    {
     "data": {
      "image/png": "[encoded data removed]",
      "text/plain": [
       "<Figure size 1080x576 with 1 Axes>"
      ]
     },
     "metadata": {
      "needs_background": "light"
     },
     "output_type": "display_data"
    }
   ],
   "source": [
    "import seaborn as sns \n",
    "plt.figure(figsize=(15,8))\n",
    "sns.distplot(ham_texts_length, bins=50, label='ham_length',  kde=False,\n",
    "             hist_kws={'alpha':0.5, 'color':'orange', 'edgecolor':'black'})\n",
    "sns.distplot(spam_texts_length, bins=30, label='spam_length',  kde=False,\n",
    "             hist_kws={'alpha':0.5, 'color':'blue', 'edgecolor':'black', 'linestyle':'--'})\n",
    "plt.xlabel('mail content length')\n",
    "plt.ylabel('count')\n",
    "plt.title('mail word legnth distribution')\n",
    "plt.legend()"
   ]
  },
  {
   "cell_type": "markdown",
   "metadata": {},
   "source": [
    "As showed above, the length distribution of ham and spam differs a lot. Even though we divide according to length, a nice score can be easily achieved.\n",
    "\n",
    "* So length can be a key feature"
   ]
  },
  {
   "cell_type": "markdown",
   "metadata": {},
   "source": [
    "---\n",
    "### Dive into text\n",
    "\n",
    "邮件的字数以及类别的分布都是值得考量的特征，但这只是从宏观来看。乃至于数据的提纯其实也是宏观层面，事实上还并没有进行微观细节的观察。因为邮件的内容是复杂的，直接拿来处理并不妥当，此外，邮件的内容也是需要考量的。根据邮件内容制定特征工程的方向是重中之重。"
   ]
  },
  {
   "cell_type": "markdown",
   "metadata": {},
   "source": [
    "Here i pre-defined a helper class `TextPurifier` to assist us"
   ]
  },
  {
   "cell_type": "code",
   "execution_count": 12,
   "metadata": {},
   "outputs": [],
   "source": [
    "text_msgs = data_df.loc[:, 'v2'].to_list()"
   ]
  },
  {
   "cell_type": "code",
   "execution_count": 52,
   "metadata": {},
   "outputs": [],
   "source": [
    "import sys\n",
    "import os\n",
    "sys.path.append(os.path.abspath(\"..\"))\n",
    "from utils.preprocessing import TextPurifier"
   ]
  },
  {
   "cell_type": "code",
   "execution_count": 53,
   "metadata": {},
   "outputs": [
    {
     "ename": "NameError",
     "evalue": "name 'text_msgs' is not defined",
     "output_type": "error",
     "traceback": [
      "\u001b[0;31m---------------------------------------------------------------------------\u001b[0m",
      "\u001b[0;31mNameError\u001b[0m                                 Traceback (most recent call last)",
      "\u001b[0;32m<ipython-input-53-b5aa77672db0>\u001b[0m in \u001b[0;36m<module>\u001b[0;34m\u001b[0m\n\u001b[0;32m----> 1\u001b[0;31m \u001b[0mtp\u001b[0m \u001b[0;34m=\u001b[0m \u001b[0mTextPurifier\u001b[0m\u001b[0;34m(\u001b[0m\u001b[0mtexts\u001b[0m\u001b[0;34m=\u001b[0m\u001b[0mtext_msgs\u001b[0m\u001b[0;34m,\u001b[0m \u001b[0mnoStopwords\u001b[0m\u001b[0;34m=\u001b[0m\u001b[0;32mFalse\u001b[0m\u001b[0;34m)\u001b[0m\u001b[0;34m\u001b[0m\u001b[0;34m\u001b[0m\u001b[0m\n\u001b[0m",
      "\u001b[0;31mNameError\u001b[0m: name 'text_msgs' is not defined"
     ]
    }
   ],
   "source": [
    "tp = TextPurifier(texts=text_msgs, noStopwords=False)"
   ]
  },
  {
   "cell_type": "markdown",
   "metadata": {},
   "source": [
    "Powered by regular expression, here are the rules, which costs  a lot of time"
   ]
  },
  {
   "cell_type": "code",
   "execution_count": 15,
   "metadata": {},
   "outputs": [
    {
     "name": "stdout",
     "output_type": "stream",
     "text": [
      "Name:punctuation, \tRule:<[^\\w\\d\\s]|_>\n",
      "Name:mailaddress, \tRule:<(?:[0-9a-zA-Z_])+\\S@[^.]+\\.[a-z]{2,}>\n",
      "Name:webaddress, \tRule:<(http[s]?\\://)?[a-zA-Z0-9\\-\\.]+\\.(com|edu|gov|mil|net|org|biz|info|name|museum|us|ca|uk)(/\\S*)*>\n",
      "Name:phonenumber, \tRule:<\\(?[\\d]{4}\\)?[\\s-]?[\\d]{3}[\\s-]?[\\d]{4,}>\n",
      "Name:number    , \tRule:<\\b\\d+(\\.\\d+)?\\b>\n",
      "Name:two_many_spaces, \tRule:<\\s{2,}>\n",
      "\n"
     ]
    }
   ],
   "source": [
    "print(tp)"
   ]
  },
  {
   "cell_type": "markdown",
   "metadata": {},
   "source": [
    "These rules are aimed at:\n",
    "\n",
    "    1. mail address\n",
    "    2. website address\n",
    "    3. phone number\n",
    "    4. ordinary number\n",
    "    5. spaces bewteen words\n",
    "These differs a lot in different sms mail, but can means the same thing.\n",
    "\n",
    "So they should be replaced!"
   ]
  },
  {
   "cell_type": "markdown",
   "metadata": {},
   "source": [
    "Here, 10 matched objects will be displayed in every rules"
   ]
  },
  {
   "cell_type": "code",
   "execution_count": 16,
   "metadata": {},
   "outputs": [
    {
     "name": "stdout",
     "output_type": "stream",
     "text": [
      "Rule name: __punctuation \n",
      " [',', '.', '.', '.', \"'\", \"'\", '.', \"'\", '!', '?']\n",
      "\n",
      "Rule name: _mailaddress \n",
      " ['yijue@hotmail.com', 'info@ringtoneking.co', 'tddnewsletter@emc1.co', 'info@txt82228.co', 'olowoyey@ usc.edu', 'Dorothy@kiefer.com', 'customersqueries@netvision.uk']\n",
      "\n",
      "Rule name: _webaddress \n",
      " ['www.dbuk.net', 'xxxmobilemovieclub.com', 'hotmail.com', 'www.areyouunique.co.uk', 'www.4-tc.biz', 'www.Ldew.com', 'club4mobiles.com', 'www.100percent-real.com', 'sextextuk.com', 'www.Ldew.com']\n",
      "\n",
      "Rule name: _phonenumber \n",
      " ['08452810075', '09061701461', '08002986030', '07732584351', '09061209465', '09066364589', '0800 169 6031', '09064012160', '0871277810910', '07742676969']\n",
      "\n",
      "Rule name: _number    \n",
      " ['2', '3', '9', '900', '11', '100', '1', '2', '87077', '2']\n",
      "\n",
      "Rule name: __two_many_spaces \n",
      " ['  ', '  ', '  ', '  ', '  ', '  ', '  ', '  ', '  ', '  ']\n",
      "\n"
     ]
    }
   ],
   "source": [
    "for rule_name, matched_strings in tp.show_iter(nums=10):\n",
    "    print(f'Rule name: {rule_name:10s} \\n {matched_strings}', end='\\n\\n')"
   ]
  },
  {
   "cell_type": "markdown",
   "metadata": {},
   "source": [
    "**Purify it!**"
   ]
  },
  {
   "cell_type": "code",
   "execution_count": 17,
   "metadata": {},
   "outputs": [
    {
     "data": {
      "text/plain": [
       "['go until jurong point crazy available only in bugis n great world la e buffet cine there got amore wat ',\n",
       " 'ok lar joking wif u oni ',\n",
       " 'free entry in $number a wkly comp to win fa cup final tkts 21st may $number text fa to $number to receive entry question std txt rate t c s apply $phonenumberover18 s',\n",
       " 'u dun say so early hor u c already then say ',\n",
       " 'nah i don t think he goes to usf he lives around here though',\n",
       " 'freemsg hey there darling it s been $number week s now and no word back i d like some fun you up for it still tb ok xxx std chgs to send å $number $number to rcv',\n",
       " 'even my brother is not like to speak with me they treat me like aids patent ',\n",
       " 'as per your request melle melle oru minnaminunginte nurungu vettam has been set as your callertune for all callers press $number to copy your friends callertune',\n",
       " 'winner as a valued network customer you have been selected to receivea å $number prize reward to claim call $phonenumber claim code kl341 valid $number hours only ',\n",
       " 'had your mobile $number months or more u r entitled to update to the latest colour mobiles with camera for free call the mobile update co free on $phonenumber',\n",
       " 'i m gonna be home soon and i don t want to talk about this stuff anymore tonight k i ve cried enough today ',\n",
       " 'six chances to win cash from $number to $number $number pounds txt csh11 and send to $number cost 150p day 6days $number tsandcs apply reply hl $number info',\n",
       " 'urgent you have won a $number week free membership in our å $number $number prize jackpot txt the word claim to no $number t c www dbuk net lccltd pobox 4403ldnw1a7rw18',\n",
       " 'i ve been searching for the right words to thank you for this breather i promise i wont take your help for granted and will fulfil my promise you have been wonderful and a blessing at all times ',\n",
       " 'i have a date on sunday with will ',\n",
       " 'xxxmobilemovieclub to use your credit click the wap link in the next txt message or click here http wap xxxmobilemovieclub com n qjkgighjjgcbl',\n",
       " 'oh k i m watching here ',\n",
       " 'eh u remember how $number spell his name yes i did he v naughty make until i v wet ',\n",
       " 'fine if thatåõs the way u feel thatåõs the way its gota b',\n",
       " 'england v macedonia dont miss the goals team news txt ur national team to $number eg england to $number try wales scotland 4txt ì¼1 $number poboxox36504w45wq $number ']"
      ]
     },
     "execution_count": 17,
     "metadata": {},
     "output_type": "execute_result"
    }
   ],
   "source": [
    "texts = tp.purify()\n",
    "texts[:20]"
   ]
  },
  {
   "cell_type": "markdown",
   "metadata": {},
   "source": [
    "#### Summary for Text Analyse\n",
    "\n",
    "坦白说这里是最为耗时耗力的地方，也是整个预处理的最重要部分。\n",
    "\n",
    "在此我们对文本进行了宏微观角度的分析：\n",
    "\n",
    "1. 宏观层面，文本的长度自然是最为显见的地方，通过比较能发现，ham的平均长度是长于spam的。\n",
    "\n",
    "2. 微观层面，假如浏览过数据集的内容自然能发现文本中充斥着一些**随机而又有明确含义的内容**，譬如电话号码、电子邮箱等。不同的邮箱有不同的地址，但其实都表达的是邮箱这个意思。针对于此，将这些内容以常量替代是有必要的。eg. a@b.com -> webaddress | 138741233 -> phonenumber\n",
    "\n",
    "    此外便是一些**缺乏语义的内容**如标点符号等分词。此处予以消除\n",
    "    \n",
    "    另外考虑英文环境，句首大写的情况以及可能的句中大写也应该同化微小写。\n",
    "    \n",
    "    当然，`语态、指示代词`等也可能存在有'少意义'或者'多词一意'（如go went）的情况，但综合考虑这些内容可能仍是有助于判断的，因此留下。\n"
   ]
  },
  {
   "cell_type": "markdown",
   "metadata": {},
   "source": [
    "Thus the final processed data is show below"
   ]
  },
  {
   "cell_type": "code",
   "execution_count": 54,
   "metadata": {},
   "outputs": [],
   "source": [
    "from dataset import get_sms_dataset\n",
    "\n",
    "data = get_sms_dataset(raw=False, overwrite=True)"
   ]
  },
  {
   "cell_type": "code",
   "execution_count": 55,
   "metadata": {},
   "outputs": [
    {
     "data": {
      "text/html": [
       "<div>\n",
       "<style scoped>\n",
       "    .dataframe tbody tr th:only-of-type {\n",
       "        vertical-align: middle;\n",
       "    }\n",
       "\n",
       "    .dataframe tbody tr th {\n",
       "        vertical-align: top;\n",
       "    }\n",
       "\n",
       "    .dataframe thead th {\n",
       "        text-align: right;\n",
       "    }\n",
       "</style>\n",
       "<table border=\"1\" class=\"dataframe\">\n",
       "  <thead>\n",
       "    <tr style=\"text-align: right;\">\n",
       "      <th></th>\n",
       "      <th>target</th>\n",
       "      <th>message</th>\n",
       "    </tr>\n",
       "  </thead>\n",
       "  <tbody>\n",
       "    <tr>\n",
       "      <th>0</th>\n",
       "      <td>0</td>\n",
       "      <td>go until jurong point crazy available only in ...</td>\n",
       "    </tr>\n",
       "    <tr>\n",
       "      <th>1</th>\n",
       "      <td>0</td>\n",
       "      <td>ok lar joking wif u oni</td>\n",
       "    </tr>\n",
       "    <tr>\n",
       "      <th>2</th>\n",
       "      <td>1</td>\n",
       "      <td>free entry in $number a wkly comp to win fa cu...</td>\n",
       "    </tr>\n",
       "    <tr>\n",
       "      <th>3</th>\n",
       "      <td>0</td>\n",
       "      <td>u dun say so early hor u c already then say</td>\n",
       "    </tr>\n",
       "    <tr>\n",
       "      <th>4</th>\n",
       "      <td>0</td>\n",
       "      <td>nah i don t think he goes to usf he lives arou...</td>\n",
       "    </tr>\n",
       "  </tbody>\n",
       "</table>\n",
       "</div>"
      ],
      "text/plain": [
       "   target                                            message\n",
       "0       0  go until jurong point crazy available only in ...\n",
       "1       0                           ok lar joking wif u oni \n",
       "2       1  free entry in $number a wkly comp to win fa cu...\n",
       "3       0       u dun say so early hor u c already then say \n",
       "4       0  nah i don t think he goes to usf he lives arou..."
      ]
     },
     "execution_count": 55,
     "metadata": {},
     "output_type": "execute_result"
    }
   ],
   "source": [
    "data.head()"
   ]
  },
  {
   "cell_type": "code",
   "execution_count": 56,
   "metadata": {},
   "outputs": [
    {
     "data": {
      "text/plain": [
       "0     go until jurong point crazy available only in ...\n",
       "1                              ok lar joking wif u oni \n",
       "2     free entry in $number a wkly comp to win fa cu...\n",
       "3          u dun say so early hor u c already then say \n",
       "4     nah i don t think he goes to usf he lives arou...\n",
       "5     freemsg hey there darling it s been $number we...\n",
       "6     even my brother is not like to speak with me t...\n",
       "7     as per your request melle melle oru minnaminun...\n",
       "8     winner as a valued network customer you have b...\n",
       "9     had your mobile $number months or more u r ent...\n",
       "10    i m gonna be home soon and i don t want to tal...\n",
       "Name: message, dtype: object"
      ]
     },
     "execution_count": 56,
     "metadata": {},
     "output_type": "execute_result"
    }
   ],
   "source": [
    "data.loc[:10, 'message']"
   ]
  },
  {
   "cell_type": "code",
   "execution_count": null,
   "metadata": {},
   "outputs": [],
   "source": [
    "data['target'] == 0"
   ]
  },
  {
   "cell_type": "code",
   "execution_count": null,
   "metadata": {},
   "outputs": [],
   "source": []
  }
 ],
 "metadata": {
  "kernelspec": {
   "display_name": "Python 3.7.7 64-bit ('Ptorch': conda)",
   "language": "python",
   "name": "python37764bitptorchconda9559d7826fd6439e8d887d01c59b0923"
  },
  "language_info": {
   "codemirror_mode": {
    "name": "ipython",
    "version": 3
   },
   "file_extension": ".py",
   "mimetype": "text/x-python",
   "name": "python",
   "nbconvert_exporter": "python",
   "pygments_lexer": "ipython3",
   "version": "3.7.7"
  }
 },
 "nbformat": 4,
 "nbformat_minor": 4
}
